{
    "cells": [
        {
            "cell_type": "markdown",
            "metadata": {},
            "source": "# Capstone Project - The Battle of the Neighborhoods (Week 1)\n### Applied Data Science Capstone by IBM/Coursera"
        },
        {
            "cell_type": "markdown",
            "metadata": {},
            "source": "<h1>Exploring and Clustering Neighborhoods in Tokyo<h1/>"
        },
        {
            "cell_type": "markdown",
            "metadata": {},
            "source": "## Table of contents\n* [Introduction: Business Problem](#introduction)\n* [Data Section](#data)"
        },
        {
            "cell_type": "markdown",
            "metadata": {},
            "source": "## Introduction/ Business Problem"
        },
        {
            "cell_type": "markdown",
            "metadata": {},
            "source": "Whether your company is an established, mature business or a start-up, locating in a **largely populated** city has several benefits. The hustle and bustle of a large metropolis seems to transfer its energy to the businesses and residents. Whether the city is located on the West Coast, the East Coast or in the Midwest, they all share several advantages which majorly includes:\n\n**Workforce :** A big city has more workers than a small city or town. The workforce may have more varied skills as well. In addition, a big city has a variety of levels of housing from extremely affordable to extremely pricey. The variety means employees from the lowest line staffer to vice presidents will find accommodations that are comfortable and that they can afford.\n\n\n**Infrastructure :** Public transportation means it's easier and less costly for employees to get to work. If travel is on the business agenda, a large city will have at least one airport with direct flights to most cities. Infrastructure includes intangibles as well, such as business networks, professional organizations and small business development centers.\n\n\n**Diverse Customer Base :** Cities often have a diverse cultural base. Businesses that target a certain segment of customers will do better in a big city that has a larger population of that segment. Businesses that offer a service or product to a narrow niche will find more customers in that niche in a larger population."
        },
        {
            "cell_type": "markdown",
            "metadata": {},
            "source": "**In this project we will try to find an optimal location for  Grocery stores. Specifically, this report will be targeted to stakeholders interested in opening  Grocery stores in Tokyo, Japan.** \n\n\n<P style =color:red;>Since Grocery Stores are often cited as among the types of businesses with the lowest profit margins. It's true. Grocery store profit margins typically range from 1 percent to 3 percent, depending on the items. Grocery stores make their money on volume. They may not make much on any one item, that's why the store kindly provides big shopping carts for their customers. With not much additional effort, the grocery store sells you 20 items or more, making much more profit than they would have if you had bought only one item. Given This, we will employ our skills as a data scientist to identify highly populated neigborhood where competition are bound to be very minimal.<p/>\n\n\n<P style =color:red;>We will use our data science powers to generate a few most promissing neighborhoods based on this criteria. Advantages of each area will then be clearly expressed so that best possible final location can be chosen by stakeholders.<p/>\n\n\n\n"
        },
        {
            "cell_type": "markdown",
            "metadata": {},
            "source": "# Data Section"
        },
        {
            "cell_type": "markdown",
            "metadata": {},
            "source": "Based on definition of our problem, factors that will influence our decission are:\n* number of existing Borughs/Wards and their Major neighborhoods.\n* number of  inhabitants of each Wards that forms the neighborhood.\n* Most Common venues in Those neighborhood to give us an insight to the degree of Competiition if any.\n\nWe decided to use regularly spaced grid of locations, centered around Wards, to define our neighborhoods.\n\nFollowing data sources will be needed to extract/generate the required information:\n* centers of candidate areas will be generated algorithmically and approximate addresses of centers of those areas will be obtained using **Google Maps API reverse geocoding**\n*Common Venues and Exploratioon of the neighborhood will be obtained using **Foursquare API**\n* coordinate of Neighborhoods selected based on some criteria will be clusteterd to highlight Similarities and Provide Better Understanding of the Neighborhoods."
        }
    ],
    "metadata": {
        "kernelspec": {
            "display_name": "Python",
            "language": "python",
            "name": "conda-env-python-py"
        },
        "language_info": {
            "codemirror_mode": {
                "name": "ipython",
                "version": 3
            },
            "file_extension": ".py",
            "mimetype": "text/x-python",
            "name": "python",
            "nbconvert_exporter": "python",
            "pygments_lexer": "ipython3",
            "version": "3.6.10"
        }
    },
    "nbformat": 4,
    "nbformat_minor": 4
}